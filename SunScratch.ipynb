{
 "cells": [
  {
   "cell_type": "code",
   "execution_count": 1,
   "id": "c6f9b867-d806-4297-a988-bcede0137f57",
   "metadata": {},
   "outputs": [
    {
     "name": "stderr",
     "output_type": "stream",
     "text": [
      "C:\\Users\\bassd\\AppData\\Local\\Temp\\ipykernel_20164\\1458539296.py:7: DeprecationWarning: datetime.datetime.utcnow() is deprecated and scheduled for removal in a future version. Use timezone-aware objects to represent datetimes in UTC: datetime.datetime.now(datetime.UTC).\n",
      "  now = datetime.utcnow()\n"
     ]
    },
    {
     "data": {
      "application/vnd.jupyter.widget-view+json": {
       "model_id": "3f798f93ed5943b3adffd18159cbd4ac",
       "version_major": 2,
       "version_minor": 0
      },
      "text/plain": [
       "Files Downloaded:   0%|          | 0/16 [00:00<?, ?file/s]"
      ]
     },
     "metadata": {},
     "output_type": "display_data"
    },
    {
     "data": {
      "application/vnd.jupyter.widget-view+json": {
       "model_id": "",
       "version_major": 2,
       "version_minor": 0
      },
      "text/plain": [
       "AIA20250420_203300_0171.fits:   0%|          | 0.00/1.23M [00:00<?, ?B/s]"
      ]
     },
     "metadata": {},
     "output_type": "display_data"
    },
    {
     "data": {
      "application/vnd.jupyter.widget-view+json": {
       "model_id": "",
       "version_major": 2,
       "version_minor": 0
      },
      "text/plain": [
       "AIA20250420_202700_0171.fits:   0%|          | 0.00/1.23M [00:00<?, ?B/s]"
      ]
     },
     "metadata": {},
     "output_type": "display_data"
    },
    {
     "data": {
      "application/vnd.jupyter.widget-view+json": {
       "model_id": "",
       "version_major": 2,
       "version_minor": 0
      },
      "text/plain": [
       "AIA20250420_202400_0171.fits:   0%|          | 0.00/1.23M [00:00<?, ?B/s]"
      ]
     },
     "metadata": {},
     "output_type": "display_data"
    },
    {
     "data": {
      "application/vnd.jupyter.widget-view+json": {
       "model_id": "",
       "version_major": 2,
       "version_minor": 0
      },
      "text/plain": [
       "AIA20250420_203000_0171.fits:   0%|          | 0.00/1.23M [00:00<?, ?B/s]"
      ]
     },
     "metadata": {},
     "output_type": "display_data"
    },
    {
     "data": {
      "application/vnd.jupyter.widget-view+json": {
       "model_id": "",
       "version_major": 2,
       "version_minor": 0
      },
      "text/plain": [
       "AIA20250420_202100_0171.fits:   0%|          | 0.00/1.23M [00:00<?, ?B/s]"
      ]
     },
     "metadata": {},
     "output_type": "display_data"
    },
    {
     "data": {
      "application/vnd.jupyter.widget-view+json": {
       "model_id": "",
       "version_major": 2,
       "version_minor": 0
      },
      "text/plain": [
       "AIA20250420_203600_0171.fits:   0%|          | 0.00/1.23M [00:00<?, ?B/s]"
      ]
     },
     "metadata": {},
     "output_type": "display_data"
    },
    {
     "data": {
      "application/vnd.jupyter.widget-view+json": {
       "model_id": "",
       "version_major": 2,
       "version_minor": 0
      },
      "text/plain": [
       "AIA20250420_204200_0171.fits:   0%|          | 0.00/1.23M [00:00<?, ?B/s]"
      ]
     },
     "metadata": {},
     "output_type": "display_data"
    },
    {
     "data": {
      "application/vnd.jupyter.widget-view+json": {
       "model_id": "",
       "version_major": 2,
       "version_minor": 0
      },
      "text/plain": [
       "AIA20250420_203900_0171.fits:   0%|          | 0.00/1.23M [00:00<?, ?B/s]"
      ]
     },
     "metadata": {},
     "output_type": "display_data"
    },
    {
     "data": {
      "application/vnd.jupyter.widget-view+json": {
       "model_id": "",
       "version_major": 2,
       "version_minor": 0
      },
      "text/plain": [
       "AIA20250420_204500_0171.fits:   0%|          | 0.00/1.23M [00:00<?, ?B/s]"
      ]
     },
     "metadata": {},
     "output_type": "display_data"
    },
    {
     "data": {
      "application/vnd.jupyter.widget-view+json": {
       "model_id": "",
       "version_major": 2,
       "version_minor": 0
      },
      "text/plain": [
       "AIA20250420_204800_0171.fits:   0%|          | 0.00/1.23M [00:00<?, ?B/s]"
      ]
     },
     "metadata": {},
     "output_type": "display_data"
    },
    {
     "data": {
      "application/vnd.jupyter.widget-view+json": {
       "model_id": "",
       "version_major": 2,
       "version_minor": 0
      },
      "text/plain": [
       "AIA20250420_205100_0171.fits:   0%|          | 0.00/1.23M [00:00<?, ?B/s]"
      ]
     },
     "metadata": {},
     "output_type": "display_data"
    },
    {
     "data": {
      "application/vnd.jupyter.widget-view+json": {
       "model_id": "",
       "version_major": 2,
       "version_minor": 0
      },
      "text/plain": [
       "AIA20250420_205700_0171.fits:   0%|          | 0.00/1.23M [00:00<?, ?B/s]"
      ]
     },
     "metadata": {},
     "output_type": "display_data"
    },
    {
     "data": {
      "application/vnd.jupyter.widget-view+json": {
       "model_id": "",
       "version_major": 2,
       "version_minor": 0
      },
      "text/plain": [
       "AIA20250420_205400_0171.fits:   0%|          | 0.00/1.23M [00:00<?, ?B/s]"
      ]
     },
     "metadata": {},
     "output_type": "display_data"
    },
    {
     "data": {
      "application/vnd.jupyter.widget-view+json": {
       "model_id": "",
       "version_major": 2,
       "version_minor": 0
      },
      "text/plain": [
       "AIA20250420_210000_0171.fits:   0%|          | 0.00/1.23M [00:00<?, ?B/s]"
      ]
     },
     "metadata": {},
     "output_type": "display_data"
    },
    {
     "data": {
      "application/vnd.jupyter.widget-view+json": {
       "model_id": "",
       "version_major": 2,
       "version_minor": 0
      },
      "text/plain": [
       "AIA20250420_210300_0171.fits:   0%|          | 0.00/1.23M [00:00<?, ?B/s]"
      ]
     },
     "metadata": {},
     "output_type": "display_data"
    },
    {
     "data": {
      "application/vnd.jupyter.widget-view+json": {
       "model_id": "",
       "version_major": 2,
       "version_minor": 0
      },
      "text/plain": [
       "AIA20250420_210600_0171.fits:   0%|          | 0.00/1.23M [00:00<?, ?B/s]"
      ]
     },
     "metadata": {},
     "output_type": "display_data"
    }
   ],
   "source": [
    "import sunpy.map\n",
    "from sunpy.net import Fido, attrs as a\n",
    "import astropy.units as u\n",
    "from datetime import datetime, timedelta\n",
    "\n",
    "# Step 1: Time range \n",
    "now = datetime.utcnow()\n",
    "time_ago = now - timedelta(minutes=60*2)\n",
    "time_range = a.Time(time_ago.isoformat(), now.isoformat())\n",
    "\n",
    "# Step 2: Query AIA 171Å data\n",
    "results = Fido.search(time_range, a.Instrument.aia, a.Wavelength(171 * u.angstrom))\n",
    "downloaded_files = Fido.fetch(results)\n",
    "\n",
    "# Step 3: Load map sequence\n",
    "maps = sunpy.map.Map(downloaded_files, sequence=True)\n"
   ]
  },
  {
   "cell_type": "code",
   "execution_count": null,
   "id": "3408a8a1-bcb8-432b-b2d4-059d9a853676",
   "metadata": {},
   "outputs": [],
   "source": [
    "import imageio.v2 as imageio  # ensure compatibility with latest imageio\n",
    "import numpy as np\n",
    "from IPython.display import Image as IPyImage\n",
    "\n",
    "# Step 4: Create grayscale images from SunPy maps\n",
    "frames = []\n",
    "for m in maps:\n",
    "    data = m.data.astype(float)\n",
    "\n",
    "    # Avoid log(0) and negatives\n",
    "    data[data <= 0] = 1e-3\n",
    "\n",
    "    # Apply log10 scaling\n",
    "    log_data = np.log10(data)\n",
    "\n",
    "    # Optional: manually adjust dynamic range here\n",
    "    lower = 1  # black point (adjust if needed)\n",
    "    upper = 4  # white point (adjust if needed)\n",
    "\n",
    "    # Normalize manually\n",
    "    normed = (log_data - lower) / (upper - lower)\n",
    "    normed = np.clip(normed, 0, 1)\n",
    "\n",
    "    # Convert to 8-bit grayscale\n",
    "    image = (255 * normed).astype(np.uint8)\n",
    "    frames.append(image)\n",
    "\n",
    "# Step 5: Save as animated GIF\n",
    "gif_path = \"sun_sequence.gif\"\n",
    "imageio.mimsave(gif_path, frames, duration=0.01, loop=0)  # duration = seconds per frame\n",
    "\n",
    "# Step 6: Display the GIF in Jupyter\n",
    "IPyImage(filename=gif_path)\n"
   ]
  },
  {
   "cell_type": "code",
   "execution_count": null,
   "id": "cec44047-f6c6-4d41-af89-f05dfe56c528",
   "metadata": {},
   "outputs": [],
   "source": [
    "data_i"
   ]
  },
  {
   "cell_type": "code",
   "execution_count": null,
   "id": "3b5be78d-b1b4-411e-9984-b0ce10e25afd",
   "metadata": {},
   "outputs": [],
   "source": [
    "gif_path = \"sun_sequence_f.gif\"\n",
    "imageio.mimsave(gif_path, frames, duration=0.0001, loop=0)  # duration = seconds per frame\n",
    "\n",
    "# Step 6: Display the GIF in Jupyter\n",
    "IPyImage(filename=gif_path)"
   ]
  },
  {
   "cell_type": "code",
   "execution_count": null,
   "id": "6021c76f-0aea-40c2-be70-fccf6acb2956",
   "metadata": {},
   "outputs": [],
   "source": []
  }
 ],
 "metadata": {
  "kernelspec": {
   "display_name": "Python 3 (ipykernel)",
   "language": "python",
   "name": "python3"
  },
  "language_info": {
   "codemirror_mode": {
    "name": "ipython",
    "version": 3
   },
   "file_extension": ".py",
   "mimetype": "text/x-python",
   "name": "python",
   "nbconvert_exporter": "python",
   "pygments_lexer": "ipython3",
   "version": "3.12.2"
  }
 },
 "nbformat": 4,
 "nbformat_minor": 5
}
