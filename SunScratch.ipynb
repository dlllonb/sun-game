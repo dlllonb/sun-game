{
 "cells": [
  {
   "cell_type": "code",
   "execution_count": 1,
   "id": "c6f9b867-d806-4297-a988-bcede0137f57",
   "metadata": {},
   "outputs": [],
   "source": [
    "import sunpy.map\n",
    "from sunpy.net import Fido, attrs as a\n",
    "import astropy.units as u\n",
    "from datetime import datetime, timedelta\n",
    "\n",
    "# # Step 1: Time range \n",
    "# now = datetime.utcnow()\n",
    "# time_ago = now - timedelta(minutes=60*2)\n",
    "# time_range = a.Time(time_ago.isoformat(), now.isoformat())\n",
    "\n",
    "# # Step 2: Query AIA 171Å data\n",
    "# results = Fido.search(time_range, a.Instrument.aia, a.Wavelength(171 * u.angstrom))\n",
    "# downloaded_files = Fido.fetch(results)\n",
    "\n",
    "# # Step 3: Load map sequence\n",
    "# maps = sunpy.map.Map(downloaded_files, sequence=True)\n"
   ]
  },
  {
   "cell_type": "code",
   "execution_count": 4,
   "id": "8c0b3dea-79c5-42a1-819d-6132f810fa25",
   "metadata": {},
   "outputs": [
    {
     "name": "stderr",
     "output_type": "stream",
     "text": [
      "C:\\Users\\bassd\\AppData\\Local\\Temp\\ipykernel_29012\\4028400222.py:2: DeprecationWarning: datetime.datetime.utcnow() is deprecated and scheduled for removal in a future version. Use timezone-aware objects to represent datetimes in UTC: datetime.datetime.now(datetime.UTC).\n",
      "  now = datetime.utcnow() - timedelta(days=26)\n"
     ]
    }
   ],
   "source": [
    "# Step 1: Time range \n",
    "now = datetime.utcnow() - timedelta(days=26)\n",
    "time_ago = now - timedelta(hours=1)\n",
    "time_range = a.Time(time_ago.isoformat(), now.isoformat())"
   ]
  },
  {
   "cell_type": "code",
   "execution_count": 3,
   "id": "f457d820-70e6-4e12-9ff9-18d5e4215087",
   "metadata": {},
   "outputs": [
    {
     "data": {
      "text/plain": [
       "<sunpy.net.attrs.Time(2025-04-16 17:32:59.084, 2025-04-16 22:20:59.084)>"
      ]
     },
     "execution_count": 3,
     "metadata": {},
     "output_type": "execute_result"
    }
   ],
   "source": [
    "time_range"
   ]
  },
  {
   "cell_type": "code",
   "execution_count": 1,
   "id": "0b287f32-8ee2-4c9e-979f-f117da25212f",
   "metadata": {},
   "outputs": [],
   "source": [
    "# Step 2: Query AIA 171Å data\n",
    "results = Fido.search(time_range, a.Instrument.aia, a.Wavelength(171 * u.angstrom))\n",
    "downloaded_files = Fido.fetch(results)\n",
    "\n",
    "# Step 3: Load map sequence\n",
    "maps = sunpy.map.Map(downloaded_files, sequence=True)"
   ]
  },
  {
   "cell_type": "code",
   "execution_count": null,
   "id": "3408a8a1-bcb8-432b-b2d4-059d9a853676",
   "metadata": {},
   "outputs": [],
   "source": [
    "import imageio.v2 as imageio  # ensure compatibility with latest imageio\n",
    "import numpy as np\n",
    "from IPython.display import Image as IPyImage\n",
    "\n",
    "# Step 4: Create grayscale images from SunPy maps\n",
    "frames = []\n",
    "for m in maps:\n",
    "    data = m.data.astype(float)\n",
    "\n",
    "    # Avoid log(0) and negatives\n",
    "    data[data <= 0] = 1e-3\n",
    "\n",
    "    # Apply log10 scaling\n",
    "    log_data = np.log10(data)\n",
    "\n",
    "    # Optional: manually adjust dynamic range here\n",
    "    lower = 1  # black point (adjust if needed)\n",
    "    upper = 4  # white point (adjust if needed)\n",
    "\n",
    "    # Normalize manually\n",
    "    normed = (log_data - lower) / (upper - lower)\n",
    "    normed = np.clip(normed, 0, 1)\n",
    "\n",
    "    # Convert to 8-bit grayscale\n",
    "    image = (255 * normed).astype(np.uint8)\n",
    "    frames.append(image)\n",
    "\n",
    "# Step 5: Save as animated GIF\n",
    "gif_path = \"sun_sequence.gif\"\n",
    "imageio.mimsave(gif_path, frames, duration=0.01, loop=0)  # duration = seconds per frame\n",
    "\n",
    "# Step 6: Display the GIF in Jupyter\n",
    "IPyImage(filename=gif_path)\n"
   ]
  },
  {
   "cell_type": "code",
   "execution_count": null,
   "id": "cec44047-f6c6-4d41-af89-f05dfe56c528",
   "metadata": {},
   "outputs": [],
   "source": [
    "data_i"
   ]
  },
  {
   "cell_type": "code",
   "execution_count": null,
   "id": "3b5be78d-b1b4-411e-9984-b0ce10e25afd",
   "metadata": {},
   "outputs": [],
   "source": [
    "gif_path = \"sun_sequence_f.gif\"\n",
    "imageio.mimsave(gif_path, frames, duration=0.0001, loop=0)  # duration = seconds per frame\n",
    "\n",
    "# Step 6: Display the GIF in Jupyter\n",
    "IPyImage(filename=gif_path)"
   ]
  },
  {
   "cell_type": "code",
   "execution_count": null,
   "id": "45e23498-085e-4cf7-a68b-e9deaca4ff99",
   "metadata": {},
   "outputs": [],
   "source": [
    "import os\n",
    "from datetime import datetime, timedelta\n",
    "import numpy as np\n",
    "import astropy.units as u\n",
    "import matplotlib.pyplot as plt\n",
    "from sunpy.map import Map\n",
    "from sunpy.net import Fido, attrs as a\n",
    "from sunpy.visualization.colormaps import color_tables as ct"
   ]
  },
  {
   "cell_type": "code",
   "execution_count": null,
   "id": "aae371d8-c245-40f0-966b-bd5009d845cf",
   "metadata": {},
   "outputs": [],
   "source": [
    "output_dir = \"sun-frames\"\n",
    "os.makedirs(output_dir, exist_ok=True)"
   ]
  },
  {
   "cell_type": "code",
   "execution_count": null,
   "id": "d136dd64-d58b-46ba-94ac-6b0b8f91e986",
   "metadata": {},
   "outputs": [],
   "source": [
    "end_time = datetime.utcnow() - timedelta(days=1)\n",
    "start_time = end_time - timedelta(days=27)"
   ]
  },
  {
   "cell_type": "code",
   "execution_count": null,
   "id": "e694b93b-96cd-47b4-a0d6-4a7194a79dfd",
   "metadata": {},
   "outputs": [],
   "source": [
    "time_list = [start_time + timedelta(hours=3 * i) for i in range(int(27 * 24 / 3))]"
   ]
  },
  {
   "cell_type": "code",
   "execution_count": null,
   "id": "6021c76f-0aea-40c2-be70-fccf6acb2956",
   "metadata": {},
   "outputs": [],
   "source": [
    "# Generate list of sample times: every 3 hours\n",
    "time_list = [start_time + timedelta(hours=3 * i) for i in range(int(27 * 24 / 3))]\n",
    "\n",
    "# Download and save images\n",
    "for i, t in enumerate(time_list):\n",
    "    try:\n",
    "        # Query AIA 171Å image closest to this time\n",
    "        tr = a.Time(t, t + timedelta(minutes=10))\n",
    "        result = Fido.search(tr, a.Instrument.aia, a.Wavelength(171 * u.angstrom))\n",
    "        file = Fido.fetch(result[0, 0])\n",
    "\n",
    "        # Load map\n",
    "        m = Map(file[0])\n",
    "\n",
    "        # Apply SunPy's AIA 171 colormap and intensity normalization\n",
    "        aia_cmap = ct.aia_color_table(171 * u.angstrom)\n",
    "        norm = plt.Normalize(vmin=0, vmax=np.percentile(m.data, 99.5))  # Stretch using 99.5 percentile\n",
    "\n",
    "        # Save colorized image\n",
    "        fig = plt.figure(figsize=(6, 6), dpi=100)\n",
    "        ax = plt.axes([0, 0, 1, 1])  # no border/margin\n",
    "        ax.imshow(m.data, cmap=aia_cmap, norm=norm, origin='lower')\n",
    "        ax.axis('off')\n",
    "        plt.savefig(f\"{output_dir}/frame_{i:03d}.png\", bbox_inches='tight', pad_inches=0)\n",
    "        plt.show()\n",
    "        plt.close(fig)\n",
    "\n",
    "        print(f\"Saved frame_{i:03d}.png\")\n",
    "        break\n",
    "\n",
    "    except Exception as e:\n",
    "        print(f\"Skipped time {t} due to error: {e}\")\n",
    "        break\n"
   ]
  },
  {
   "cell_type": "code",
   "execution_count": null,
   "id": "6a397b1c-0bd1-4602-8630-924d38b65fc4",
   "metadata": {},
   "outputs": [],
   "source": [
    "from datetime import datetime, timedelta\n",
    "from sunpy.net import Fido, attrs as a\n",
    "import astropy.units as u\n",
    "import sunpy.map"
   ]
  },
  {
   "cell_type": "code",
   "execution_count": null,
   "id": "b7f265ac-4a09-4ecb-afc7-dcba8431d21e",
   "metadata": {},
   "outputs": [],
   "source": [
    "# Time range\n",
    "now = datetime.utcnow()\n",
    "start = now - timedelta(days=27)\n",
    "time_range = a.Time(start.isoformat(), now.isoformat())"
   ]
  },
  {
   "cell_type": "code",
   "execution_count": null,
   "id": "66b07f50-edfe-4bdc-a059-36f04a1f3234",
   "metadata": {},
   "outputs": [],
   "source": [
    "now"
   ]
  },
  {
   "cell_type": "code",
   "execution_count": null,
   "id": "1b14dab9-db52-4959-9931-2ddcb37d9fa7",
   "metadata": {},
   "outputs": [],
   "source": [
    "start"
   ]
  },
  {
   "cell_type": "code",
   "execution_count": null,
   "id": "003b7720-fd49-40ea-80ec-ddc2e4bc2e28",
   "metadata": {
    "scrolled": true
   },
   "outputs": [],
   "source": [
    "# Fetch many images at once\n",
    "results = Fido.search(time_range, a.Instrument.aia, a.Wavelength(171 * u.angstrom))\n",
    "downloaded_files = Fido.fetch(results)\n",
    "\n",
    "# Load all as a sequence\n",
    "maps = sunpy.map.Map(downloaded_files, sequence=True)\n",
    "\n",
    "# Downsample by taking every Nth frame\n",
    "sampled_maps = maps[::10]  # Adjust the stride as needed"
   ]
  },
  {
   "cell_type": "code",
   "execution_count": null,
   "id": "3670b748-03c9-4bc7-a6e6-6864499ab4f0",
   "metadata": {},
   "outputs": [],
   "source": [
    "for y in [maps[x].date for x in range(len(maps))]:\n",
    "    print(y)"
   ]
  },
  {
   "cell_type": "code",
   "execution_count": null,
   "id": "72d61f87-7132-45f6-a864-6620356f1fc4",
   "metadata": {},
   "outputs": [],
   "source": [
    "import os\n",
    "import matplotlib.pyplot as plt\n",
    "from sunpy.visualization.colormaps import color_tables as ct\n",
    "import astropy.units as u\n",
    "import numpy as np\n",
    "from astropy.visualization import LogStretch, ImageNormalize\n",
    "from sunpy.visualization.colormaps import color_tables as ct"
   ]
  },
  {
   "cell_type": "code",
   "execution_count": null,
   "id": "50f500bf-8317-47b6-9e1e-6a7b3a764f56",
   "metadata": {},
   "outputs": [],
   "source": [
    "output_dir = \"sun-frames\"\n",
    "\n",
    "# Get the AIA 171 colormap\n",
    "aia_cmap = ct.aia_color_table(171 * u.angstrom)\n",
    "\n",
    "for i, m in enumerate(sampled_maps):\n",
    "    try:\n",
    "        data = m.data\n",
    "\n",
    "        # Normalize with 99.5th percentile stretch\n",
    "        #vmin = 0\n",
    "        #vmax = np.percentile(data, 96)\n",
    "        #norm = plt.Normalize(vmin=vmin, vmax=vmax)\n",
    "        norm = ImageNormalize(data, stretch=LogStretch(), vmin=8, vmax=5000)\n",
    "\n",
    "        # Create figure with no axes\n",
    "        fig = plt.figure(figsize=(6, 6), dpi=100)\n",
    "        ax = plt.axes([0, 0, 1, 1])  # full-figure, no margins\n",
    "        #ax.imshow(data, cmap=aia_cmap, norm=norm, origin='lower')\n",
    "        ax.imshow(data, cmap=aia_cmap, norm=norm, origin='lower')\n",
    "        ax.axis('off')\n",
    "\n",
    "        # Save to file\n",
    "        frame_path = os.path.join(output_dir, f\"frame_{i:03d}.png\")\n",
    "        plt.savefig(frame_path, bbox_inches='tight', pad_inches=0)\n",
    "        plt.close(fig)\n",
    "\n",
    "        print(f\"Saved {frame_path}\")\n",
    "\n",
    "    except Exception as e:\n",
    "        print(f\"Skipping frame {i} due to error: {e}\")\n"
   ]
  },
  {
   "cell_type": "code",
   "execution_count": 14,
   "id": "473147e6-fcda-4d9c-b003-4bc1ec5dccbc",
   "metadata": {},
   "outputs": [],
   "source": [
    "import sunpy.map\n",
    "from sunpy.visualization.colormaps import color_tables as ct\n",
    "import matplotlib.pyplot as plt\n",
    "import numpy as np\n",
    "import astropy.units as u\n",
    "import os\n",
    "from scipy.ndimage import zoom\n",
    "from matplotlib.cm import get_cmap"
   ]
  },
  {
   "cell_type": "code",
   "execution_count": 2,
   "id": "39b1342d-24eb-4c88-8e48-05faab3fe714",
   "metadata": {},
   "outputs": [],
   "source": [
    "input_dir = 'downloaded-fits'\n",
    "output_dir = 'sun-frames'\n",
    "#os.makedirs(output_dir, exist_ok=True)\n",
    "\n",
    "files = sorted([f for f in os.listdir(input_dir) if f.endswith('lev1.fits')])\n",
    "\n",
    "for i, fname in enumerate(files):\n",
    "    m = sunpy.map.Map(os.path.join(input_dir, fname))\n",
    "    data = m.data.astype(float)\n",
    "\n",
    "    # Log scaling for better contrast\n",
    "    data[data <= 0] = 1e-3\n",
    "    log_data = np.log10(data)\n",
    "    normed = np.clip((log_data - 1.5) / (4.2 - 1.5), 0, 1)\n",
    "\n",
    "    scale = 512 / normed.shape[0]\n",
    "    resized = zoom(normed, zoom=scale, order=3) \n",
    "\n",
    "    # Apply AIA colormap\n",
    "    cmap = get_cmap(ct.aia_color_table(171 * u.angstrom))\n",
    "    rgba = cmap(resized)\n",
    "\n",
    "    plt.imsave(f\"{output_dir}/frame_{i:03d}.png\", rgba)\n",
    "    print(f\"Saved frame {i}\")\n"
   ]
  },
  {
   "cell_type": "code",
   "execution_count": 9,
   "id": "cf95434e-f43b-4541-9c9b-d24397202c54",
   "metadata": {},
   "outputs": [
    {
     "name": "stdout",
     "output_type": "stream",
     "text": [
      "Filename: downloaded-fits//aia.lev1_euv_12s.2024-04-14T235934Z.171.image_lev1.fits\n",
      "No.    Name      Ver    Type      Cards   Dimensions   Format\n",
      "  0  PRIMARY       1 PrimaryHDU       6   ()      \n",
      "  1  COMPRESSED_IMAGE    1 CompImageHDU    196   (4096, 4096)   int16   \n"
     ]
    }
   ],
   "source": [
    "from astropy.io import fits\n",
    "hdul = fits.open('downloaded-fits//aia.lev1_euv_12s.2024-04-14T235934Z.171.image_lev1.fits')\n",
    "hdul.info()"
   ]
  },
  {
   "cell_type": "code",
   "execution_count": null,
   "id": "dc047360-c941-4ae7-9914-16c854d053a9",
   "metadata": {},
   "outputs": [],
   "source": []
  }
 ],
 "metadata": {
  "kernelspec": {
   "display_name": "Python 3 (ipykernel)",
   "language": "python",
   "name": "python3"
  },
  "language_info": {
   "codemirror_mode": {
    "name": "ipython",
    "version": 3
   },
   "file_extension": ".py",
   "mimetype": "text/x-python",
   "name": "python",
   "nbconvert_exporter": "python",
   "pygments_lexer": "ipython3",
   "version": "3.12.2"
  }
 },
 "nbformat": 4,
 "nbformat_minor": 5
}
